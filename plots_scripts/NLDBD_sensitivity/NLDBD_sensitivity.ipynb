{
 "metadata": {
  "language_info": {
   "codemirror_mode": {
    "name": "ipython",
    "version": 3
   },
   "file_extension": ".py",
   "mimetype": "text/x-python",
   "name": "python",
   "nbconvert_exporter": "python",
   "pygments_lexer": "ipython3",
   "version": "3.6.8"
  },
  "orig_nbformat": 2,
  "kernelspec": {
   "name": "python368jvsc74a57bd031f2aee4e71d21fbe5cf8b01ff0e069b9275f58929596ceb00d14d90e3e16cd6",
   "display_name": "Python 3.6.8 64-bit"
  },
  "metadata": {
   "interpreter": {
    "hash": "31f2aee4e71d21fbe5cf8b01ff0e069b9275f58929596ceb00d14d90e3e16cd6"
   }
  }
 },
 "nbformat": 4,
 "nbformat_minor": 2,
 "cells": [
  {
   "source": [
    "## This script is used to compare the sensitivity results of different NLDBD experiments."
   ],
   "cell_type": "markdown",
   "metadata": {}
  },
  {
   "cell_type": "code",
   "execution_count": null,
   "metadata": {},
   "outputs": [],
   "source": [
    "import numpy as np\n",
    "import matplotlib.pyplot as plt"
   ]
  },
  {
   "cell_type": "code",
   "execution_count": null,
   "metadata": {},
   "outputs": [],
   "source": [
    "\n",
    "halftime_list = [1.8e28, 1e28, 9.2e27, 5.6e27, 1.8e26, 9.2e25, 3.5e25,3.2e25]\n",
    "N_a = 6.022e23\n",
    "alpha = 1.64 # 90%CL \n",
    "constant = np.log(2)\n",
    "\n",
    "Bi=np.arange(1e-5,50,10e-3)\n",
    "\n",
    "fig = plt.figure(figsize=(7,5))\n",
    "\n",
    "ax = fig.add_subplot(1,1,1)\n",
    "ax.tick_params(which='major',length=10,width=1)\n",
    "ax.tick_params(which='minor',length=5,width=1)\n",
    "ax.tick_params(which='both',direction='in')\n",
    "ax.tick_params(labelsize=15)\n",
    "\n",
    "for i in range(len(halftime_list)):\n",
    "    ax.plot(Bi,pow((halftime_list[i]*alpha/(constant*N_a)),2)*Bi*1e-3,'--',color='grey')\n",
    "\n",
    "markersize_value=10\n",
    "halftime_exp = {'CUORE':3.2e25,'GERDA':1.8e26,'EXO-200':3.5e25,'nEXO':9.2e27,'KamLAND-Zen':9.2e25,'LEGEND 1000':1e28}\n",
    "BkgIndex = {'CUORE':2.202,'GERDA':0.0378,'EXO-200':0.204,'nEXO':7.208e-4,'KamLAND-Zen':4.6875e-3,'LEGEND 1000':7.6e-4}\n",
    "experiment_name = ['CUORE','GERDA','EXO-200','nEXO','KamLAND-Zen','LEGEND 1000']\n",
    "exposure = {}\n",
    "for index in experiment_name:\n",
    "    exposure[index] = pow((halftime_exp[index]*alpha/(constant*N_a)),2)*BkgIndex[index]*1e-3\n",
    "\n",
    "ax.plot(BkgIndex['CUORE'],exposure['CUORE'],'P',markersize=markersize_value,label='CUORE',color='black')\n",
    "ax.plot(BkgIndex['GERDA'],exposure['GERDA'],'s',markersize=markersize_value,label='GERDA(phase-II)',color='fuchsia')#,fillstyle='none')\n",
    "ax.plot(BkgIndex['KamLAND-Zen'],exposure['KamLAND-Zen'],'^',markersize=markersize_value,label='KamLAND-Zen(phase-II)',color='lime')\n",
    "ax.plot(BkgIndex['LEGEND 1000'],exposure['LEGEND 1000'],'p',markersize=markersize_value,label='LEGEND 1000',color='orange')\n",
    "ax.plot(BkgIndex['EXO-200'],exposure['EXO-200'],'o',markersize=markersize_value,label='EXO-200',color='blue')\n",
    "ax.plot(BkgIndex['nEXO'],exposure['nEXO'],'d',markersize=markersize_value,label='nEXO(w/o Ba-tagging)',color='blue',fillstyle='none')\n",
    "ax.plot(2.5e-3,1.2e3,'*',markersize=markersize_value,label='JUNO Xe-LS(5 tons)',color='red',fillstyle='none')\n",
    "ax.plot(2.5e-3,1.2e4,'*',markersize=markersize_value,label='JUNO Xe-LS(50 tons)',color='red')\n",
    "ax.legend(loc = 'upper right')\n",
    "\n",
    "rotation_value = 29 \n",
    "size_value=12\n",
    "ax.text(1.e-3,1.e4,'$1.8\\\\times 10^{28}yr$',rotation=rotation_value,size=size_value,color='red')\n",
    "ax.text(0.3e-3,0.8e3,'$1\\\\times 10^{28}yr$',rotation=rotation_value,size=size_value,color='orange')\n",
    "ax.text(1e-4,0.80e2,'$9.2\\\\times 10^{27}yr$',rotation=rotation_value,size=size_value,color='blue')\n",
    "ax.text(1e-3,1.3e2,'$5.6\\\\times 10^{27}yr$',rotation=rotation_value,size=size_value)\n",
    "ax.text(3e-3,3,'$1.8\\\\times 10^{26}yr$',rotation=rotation_value,size=size_value)\n",
    "ax.text(5.0e-3,1.07,'$9.2\\\\times 10^{25}yr$',rotation=rotation_value,size=size_value)\n",
    "ax.text(0.02,0.6,'$3.5\\\\times 10^{25}yr$',rotation=rotation_value,size=size_value)\n",
    "ax.text(1,4.5,'$3.2\\\\times 10^{25}yr$',rotation=rotation_value,size=size_value)\n",
    "\n",
    "\n",
    "ax.set_xlabel('background index in ROI/$10^{-3}$ cnts/ $\\\\rm (keV \\cdot mol\\cdot yr)^{-1}$',size=13,labelpad=15)\n",
    "ax.set_xlim([1e-4,10])\n",
    "ax.set_xscale('log')\n",
    "ax.set_ylabel('normalized exposure (mol $\\cdot$ yr/keV)',size=13,labelpad=15)\n",
    "ax.set_ylim([0.1,1e5])\n",
    "ax.set_yscale('log')\n",
    "ax.set_xticks([1e-4,1e-3,1e-2,1e-1,1,10])\n",
    "ax.set_xticklabels(['$10^{-4}$','$10^{-3}$','$10^{-2}$','$10^{-1}$','1','10'])\n",
    "\n",
    "plt.savefig('./NLDBD_sensitivity.pdf',bbox_inches = 'tight')"
   ]
  }
 ]
}